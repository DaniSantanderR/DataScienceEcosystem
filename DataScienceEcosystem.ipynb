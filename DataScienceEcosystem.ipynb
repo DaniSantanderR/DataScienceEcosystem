{
 "cells": [
  {
   "cell_type": "markdown",
   "id": "0145f6e0-71b3-44ae-956a-5f6b47500125",
   "metadata": {},
   "source": [
    "# Herramientas y Ecosistema de la Ciencia de Datos"
   ]
  },
  {
   "cell_type": "markdown",
   "id": "f3cf0705-63f7-4374-9265-1c33d6d6ce2e",
   "metadata": {},
   "source": [
    "En este cuaderno se presentan y describen las principales herramientas y entornos que conforman el ecosistema de la ciencia de datos."
   ]
  },
  {
   "cell_type": "markdown",
   "id": "5d66e2f2-da96-482c-a247-3ffea537145a",
   "metadata": {},
   "source": [
    "**Objetivos:**\n",
    "\n",
    "- Listar lenguajes populares para Ciencia de Datos.  \n",
    "- Identificar herramientas y entornos de desarrollo comunes.  \n",
    "- Evaluar expresiones en Python.  \n",
    "- Describir bibliotecas clave utilizadas en Ciencia de Datos.  "
   ]
  },
  {
   "cell_type": "markdown",
   "id": "7caec143-ba14-40bd-9c52-7f1968be4ded",
   "metadata": {},
   "source": [
    "Algunos de los lenguajes populares que utilizan los científicos de datos son:\n"
   ]
  },
  {
   "cell_type": "markdown",
   "id": "d467c9a7-5c5b-46a2-8d8d-02c00b3ea26c",
   "metadata": {},
   "source": [
    "1. Python\n",
    "2. R\n",
    "3. SQL\n",
    "4. Julia\n",
    "5. Scala\n",
    "6. C++\n",
    "7. Java\n",
    "8. Java Script"
   ]
  },
  {
   "cell_type": "markdown",
   "id": "f34bb946-2fa7-4098-9d01-9c890265917c",
   "metadata": {},
   "source": [
    "Algunas de las bibliotecas comúnmente utilizadas por los científicos de datos incluyen:"
   ]
  },
  {
   "cell_type": "markdown",
   "id": "9592ba50-f8cd-491d-8ac5-17a5b1e6c936",
   "metadata": {},
   "source": [
    "1. Pandas\n",
    "2. Numpy\n",
    "3. Matplotlib\n",
    "4. Seaborn\n",
    "5. Keras\n",
    "6. TensorFlow\n",
    "7. ggplot2"
   ]
  },
  {
   "cell_type": "markdown",
   "id": "9170c270-ca85-48b3-9bfa-c3ba4c0a91e2",
   "metadata": {},
   "source": [
    "| Herramientas de Ciencia de Datos |\n",
    "|-------|\n",
    "|RStudio|\n",
    "|Jupyter Notebook|\n",
    "|VScode|"
   ]
  },
  {
   "cell_type": "markdown",
   "id": "aa425150-d89d-4915-8bab-5a63ddec7ba5",
   "metadata": {},
   "source": [
    "### A continuación, se presentan algunos ejemplos de evaluación de expresiones aritméticas en Python\n"
   ]
  },
  {
   "cell_type": "markdown",
   "id": "a469618f-ade0-459e-b7ab-d5bf6f1b44a7",
   "metadata": {},
   "source": [
    "Esta es una expresión aritmética simple para multiplicar y luego sumar enteros"
   ]
  },
  {
   "cell_type": "code",
   "execution_count": 22,
   "id": "fabb20b2-4738-49c9-b1b1-c14d4e6b9a40",
   "metadata": {},
   "outputs": [
    {
     "data": {
      "text/plain": [
       "17"
      ]
     },
     "execution_count": 22,
     "metadata": {},
     "output_type": "execute_result"
    }
   ],
   "source": [
    "(3*4)+5"
   ]
  },
  {
   "cell_type": "markdown",
   "id": "06c33e80-80fe-436d-bbf5-ba54568806fe",
   "metadata": {},
   "source": [
    "Esto convertirá 200 minutos a horas dividiendo por 60"
   ]
  },
  {
   "cell_type": "code",
   "execution_count": 23,
   "id": "7be275a7-ffaf-463f-badc-4fd6a2fa2037",
   "metadata": {},
   "outputs": [
    {
     "data": {
      "text/plain": [
       "3.3333333333333335"
      ]
     },
     "execution_count": 23,
     "metadata": {},
     "output_type": "execute_result"
    }
   ],
   "source": [
    "(200/60)"
   ]
  },
  {
   "cell_type": "markdown",
   "id": "b7f80382-93b9-440f-bde1-875d948bb488",
   "metadata": {},
   "source": [
    "## Autor"
   ]
  },
  {
   "cell_type": "markdown",
   "id": "97204e2a-b256-4d42-845f-3a0b9d8387dc",
   "metadata": {},
   "source": [
    "Laura Daniela Santander"
   ]
  },
  {
   "cell_type": "code",
   "execution_count": null,
   "id": "ac578ae2-099f-46f8-9615-c5a435f9ed04",
   "metadata": {},
   "outputs": [],
   "source": []
  }
 ],
 "metadata": {
  "kernelspec": {
   "display_name": "Python [conda env:RP_Enc]",
   "language": "python",
   "name": "conda-env-RP_Enc-py"
  },
  "language_info": {
   "codemirror_mode": {
    "name": "ipython",
    "version": 3
   },
   "file_extension": ".py",
   "mimetype": "text/x-python",
   "name": "python",
   "nbconvert_exporter": "python",
   "pygments_lexer": "ipython3",
   "version": "3.12.11"
  }
 },
 "nbformat": 4,
 "nbformat_minor": 5
}
